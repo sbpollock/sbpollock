{
  "nbformat": 4,
  "nbformat_minor": 0,
  "metadata": {
    "colab": {
      "name": "R_python_test.ipynb",
      "provenance": [],
      "collapsed_sections": [],
      "include_colab_link": true
    },
    "kernelspec": {
      "name": "python3",
      "display_name": "Python 3"
    }
  },
  "cells": [
    {
      "cell_type": "markdown",
      "metadata": {
        "id": "view-in-github",
        "colab_type": "text"
      },
      "source": [
        "<a href=\"https://colab.research.google.com/github/sbpollock/sbpollock/blob/main/R_python_test.ipynb\" target=\"_parent\"><img src=\"https://colab.research.google.com/assets/colab-badge.svg\" alt=\"Open In Colab\"/></a>"
      ]
    },
    {
      "cell_type": "markdown",
      "metadata": {
        "id": "j-zxFhQHZbrL"
      },
      "source": [
        "# Testing Colab with R\n",
        "This notebook is to test colab using R scripting with python in the same notebook, based on this [article](https://towardsdatascience.com/how-to-use-r-in-google-colab-b6e02d736497)."
      ]
    },
    {
      "cell_type": "code",
      "metadata": {
        "colab": {
          "base_uri": "https://localhost:8080/"
        },
        "id": "0Y0hKpQrNnuJ",
        "outputId": "9e6c931d-8dff-4e31-faa0-98648379e5f3"
      },
      "source": [
        "from google.colab import drive\n",
        "drive.mount('/content/drive')"
      ],
      "execution_count": 1,
      "outputs": [
        {
          "output_type": "stream",
          "text": [
            "Mounted at /content/drive\n"
          ],
          "name": "stdout"
        }
      ]
    },
    {
      "cell_type": "code",
      "metadata": {
        "id": "vU6IqkeZZXXL"
      },
      "source": [
        "%load_ext rpy2.ipython"
      ],
      "execution_count": 3,
      "outputs": []
    },
    {
      "cell_type": "code",
      "metadata": {
        "id": "4j9Sy4kzZsYj",
        "colab": {
          "base_uri": "https://localhost:8080/",
          "height": 497
        },
        "outputId": "3f5b56dc-e432-4c52-9694-299aa9cfc50c"
      },
      "source": [
        "%%R\n",
        "#install.packages(\"ggplot2\")\n",
        "library(ggplot2)\n",
        "ggplot() + geom_point(aes(mtcars$mpg,mtcars$hp)) + theme_classic()"
      ],
      "execution_count": 4,
      "outputs": [
        {
          "output_type": "display_data",
          "data": {
            "image/png": "[encoded data removed]"
          },
          "metadata": {
            "tags": []
          }
        }
      ]
    },
    {
      "cell_type": "code",
      "metadata": {
        "colab": {
          "base_uri": "https://localhost:8080/"
        },
        "id": "SXvW68yUbZ77",
        "outputId": "536a546f-b153-4450-827a-5ce76e1b5a1f"
      },
      "source": [
        "%%R\n",
        "x <- rnorm(10)\n",
        "x"
      ],
      "execution_count": null,
      "outputs": [
        {
          "output_type": "stream",
          "text": [
            " [1]  0.64840118 -0.98599934  0.29978858 -0.56758368  0.01777289 -0.82683279\n",
            " [7]  0.78558647 -0.54010266 -1.55022220 -0.96971037\n"
          ],
          "name": "stdout"
        }
      ]
    },
    {
      "cell_type": "code",
      "metadata": {
        "colab": {
          "base_uri": "https://localhost:8080/"
        },
        "id": "rQcx5VDGcVS3",
        "outputId": "850c92a0-10e4-4e26-db81-ecb27074dd90"
      },
      "source": [
        "x = %R x\n",
        "x"
      ],
      "execution_count": null,
      "outputs": [
        {
          "output_type": "execute_result",
          "data": {
            "text/plain": [
              "array([ 0.64840118, -0.98599934,  0.29978858, -0.56758368,  0.01777289,\n",
              "       -0.82683279,  0.78558647, -0.54010266, -1.5502222 , -0.96971037])"
            ]
          },
          "metadata": {
            "tags": []
          },
          "execution_count": 15
        }
      ]
    },
    {
      "cell_type": "code",
      "metadata": {
        "id": "HYEwSMNvceCb"
      },
      "source": [
        ""
      ],
      "execution_count": null,
      "outputs": []
    }
  ]
}